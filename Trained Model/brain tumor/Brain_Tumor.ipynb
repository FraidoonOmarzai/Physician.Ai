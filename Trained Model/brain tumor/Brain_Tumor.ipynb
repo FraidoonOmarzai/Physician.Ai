{
 "cells": [
  {
   "cell_type": "markdown",
   "id": "f189dea4",
   "metadata": {},
   "source": [
    "<h1 align=\"center\";style=\"color:blue\">Brain Tumor Classifier </h1>"
   ]
  },
  {
   "cell_type": "markdown",
   "id": "31af45db",
   "metadata": {},
   "source": [
    "## Import libraries"
   ]
  },
  {
   "cell_type": "code",
   "execution_count": null,
   "id": "b6704528",
   "metadata": {},
   "outputs": [],
   "source": [
    "# pip install opencv-python"
   ]
  },
  {
   "cell_type": "code",
   "execution_count": 1,
   "id": "767a820c",
   "metadata": {},
   "outputs": [],
   "source": [
    "import os\n",
    "import random \n",
    "import cv2\n",
    "from PIL import Image\n",
    "\n",
    "import numpy as np\n",
    "import pandas as pd\n",
    "import matplotlib.pyplot as plt\n",
    "import matplotlib.image as mpimg\n",
    "\n",
    "from sklearn.model_selection import train_test_split\n",
    "\n",
    "import tensorflow as tf\n",
    "from tensorflow.keras.utils import normalize\n",
    "from tensorflow.keras.layers import Conv2D, MaxPooling2D, Activation, Dropout, Flatten, Dense\n",
    "from tensorflow.keras.models import load_model"
   ]
  },
  {
   "cell_type": "markdown",
   "id": "df642df5",
   "metadata": {},
   "source": [
    "## Dataset"
   ]
  },
  {
   "cell_type": "code",
   "execution_count": 2,
   "id": "0d7e2940",
   "metadata": {},
   "outputs": [
    {
     "name": "stdout",
     "output_type": "stream",
     "text": [
      "['y946.jpg', 'y166.jpg', 'y886.jpg', 'y1144.jpg', 'y1010.jpg']\n"
     ]
    }
   ],
   "source": [
    "img_dir = 'dataset/'\n",
    "\n",
    "no_tumor = os.listdir(img_dir + 'no/')\n",
    "yes_tumor = os.listdir(img_dir + 'yes/')\n",
    "\n",
    "print(yes_tumor[:5])"
   ]
  },
  {
   "cell_type": "code",
   "execution_count": 3,
   "id": "d5ba4f94",
   "metadata": {},
   "outputs": [],
   "source": [
    "data = []\n",
    "label = []\n",
    "\n",
    "for i, img_name in enumerate(no_tumor):\n",
    "    if(img_name.split('.')[1] == 'jpg'):\n",
    "        img = cv2.imread(img_dir+'no/'+img_name)\n",
    "        img = Image.fromarray(img, 'RGB') \n",
    "        img = img.resize((64,64))\n",
    "        data.append(np.array(img))\n",
    "        label.append(0)\n",
    "        \n",
    "for i, img_name in enumerate(yes_tumor):\n",
    "    if(img_name.split('.')[1] == 'jpg'):\n",
    "        img = cv2.imread(img_dir+'yes/'+img_name)\n",
    "        img = Image.fromarray(img, 'RGB') \n",
    "        img = img.resize((64,64))\n",
    "        data.append(np.array(img))\n",
    "        label.append(1)"
   ]
  },
  {
   "cell_type": "code",
   "execution_count": 4,
   "id": "29b25c47",
   "metadata": {},
   "outputs": [
    {
     "name": "stdout",
     "output_type": "stream",
     "text": [
      "3000\n"
     ]
    }
   ],
   "source": [
    "print(len(label))"
   ]
  },
  {
   "cell_type": "code",
   "execution_count": 5,
   "id": "fa23fa17",
   "metadata": {},
   "outputs": [],
   "source": [
    "## need to conver to numpy array"
   ]
  },
  {
   "cell_type": "code",
   "execution_count": 6,
   "id": "06fb7ff5",
   "metadata": {},
   "outputs": [],
   "source": [
    "data = np.array(data)\n",
    "label = np.array(label)"
   ]
  },
  {
   "cell_type": "code",
   "execution_count": 7,
   "id": "8278a33e",
   "metadata": {},
   "outputs": [
    {
     "data": {
      "text/plain": [
       "((2400, 64, 64, 3), (2400,))"
      ]
     },
     "execution_count": 7,
     "metadata": {},
     "output_type": "execute_result"
    }
   ],
   "source": [
    "X_train, X_test, y_train, y_test = train_test_split(data, \n",
    "                                                    label,\n",
    "                                                    test_size=0.2,\n",
    "                                                    random_state=0)\n",
    "X_train.shape, y_train.shape"
   ]
  },
  {
   "cell_type": "code",
   "execution_count": 8,
   "id": "0229862d",
   "metadata": {},
   "outputs": [
    {
     "data": {
      "text/plain": [
       "(255, 0)"
      ]
     },
     "execution_count": 8,
     "metadata": {},
     "output_type": "execute_result"
    }
   ],
   "source": [
    "X_train.max(), X_train.min()"
   ]
  },
  {
   "cell_type": "code",
   "execution_count": 9,
   "id": "d59d95b0",
   "metadata": {},
   "outputs": [],
   "source": [
    "# normalize X_train and X_test\n",
    "X_train = normalize(X_train)\n",
    "X_test = normalize(X_test)"
   ]
  },
  {
   "cell_type": "code",
   "execution_count": 10,
   "id": "a6f4cb88",
   "metadata": {},
   "outputs": [
    {
     "data": {
      "text/plain": [
       "(1.0, 0.0)"
      ]
     },
     "execution_count": 10,
     "metadata": {},
     "output_type": "execute_result"
    }
   ],
   "source": [
    "X_train.max(), X_train.min()"
   ]
  },
  {
   "cell_type": "markdown",
   "id": "e227bcff",
   "metadata": {},
   "source": [
    "## Build The model"
   ]
  },
  {
   "cell_type": "code",
   "execution_count": 11,
   "id": "136134e3",
   "metadata": {},
   "outputs": [
    {
     "name": "stdout",
     "output_type": "stream",
     "text": [
      "Model: \"sequential\"\n",
      "_________________________________________________________________\n",
      "Layer (type)                 Output Shape              Param #   \n",
      "=================================================================\n",
      "conv2d (Conv2D)              (None, 62, 62, 32)        896       \n",
      "_________________________________________________________________\n",
      "max_pooling2d (MaxPooling2D) (None, 31, 31, 32)        0         \n",
      "_________________________________________________________________\n",
      "conv2d_1 (Conv2D)            (None, 29, 29, 64)        18496     \n",
      "_________________________________________________________________\n",
      "max_pooling2d_1 (MaxPooling2 (None, 14, 14, 64)        0         \n",
      "_________________________________________________________________\n",
      "flatten (Flatten)            (None, 12544)             0         \n",
      "_________________________________________________________________\n",
      "dense (Dense)                (None, 64)                802880    \n",
      "_________________________________________________________________\n",
      "dropout (Dropout)            (None, 64)                0         \n",
      "_________________________________________________________________\n",
      "dense_1 (Dense)              (None, 1)                 65        \n",
      "=================================================================\n",
      "Total params: 822,337\n",
      "Trainable params: 822,337\n",
      "Non-trainable params: 0\n",
      "_________________________________________________________________\n"
     ]
    }
   ],
   "source": [
    "model = tf.keras.Sequential([\n",
    "    Conv2D(32, (3,3), activation='relu', input_shape=(64, 64, 3)),\n",
    "    MaxPooling2D(pool_size=(2,2)),\n",
    "    Conv2D(64, (3,3), activation='relu', kernel_initializer='he_uniform'),\n",
    "    MaxPooling2D(pool_size=(2,2)),\n",
    "    Flatten(),\n",
    "    Dense(64, activation='relu'),\n",
    "    Dropout(0.2),\n",
    "    Dense(1, activation='sigmoid')\n",
    "])\n",
    "\n",
    "model.summary()"
   ]
  },
  {
   "cell_type": "code",
   "execution_count": 12,
   "id": "ffc73873",
   "metadata": {
    "scrolled": true
   },
   "outputs": [
    {
     "name": "stdout",
     "output_type": "stream",
     "text": [
      "Epoch 1/10\n",
      "75/75 [==============================] - 17s 210ms/step - loss: 0.7495 - accuracy: 0.5662 - val_loss: 0.5408 - val_accuracy: 0.7083\n",
      "Epoch 2/10\n",
      "75/75 [==============================] - 15s 207ms/step - loss: 0.5214 - accuracy: 0.7203 - val_loss: 0.4828 - val_accuracy: 0.7550\n",
      "Epoch 3/10\n",
      "75/75 [==============================] - 17s 221ms/step - loss: 0.4543 - accuracy: 0.7498 - val_loss: 0.4372 - val_accuracy: 0.7767\n",
      "Epoch 4/10\n",
      "75/75 [==============================] - 15s 200ms/step - loss: 0.4033 - accuracy: 0.7709 - val_loss: 0.4230 - val_accuracy: 0.7283\n",
      "Epoch 5/10\n",
      "75/75 [==============================] - 14s 192ms/step - loss: 0.3681 - accuracy: 0.7952 - val_loss: 0.3922 - val_accuracy: 0.8050\n",
      "Epoch 6/10\n",
      "75/75 [==============================] - 15s 199ms/step - loss: 0.3251 - accuracy: 0.8194 - val_loss: 0.3784 - val_accuracy: 0.8183\n",
      "Epoch 7/10\n",
      "75/75 [==============================] - 15s 194ms/step - loss: 0.2892 - accuracy: 0.8350 - val_loss: 0.3714 - val_accuracy: 0.8117\n",
      "Epoch 8/10\n",
      "75/75 [==============================] - 15s 195ms/step - loss: 0.2534 - accuracy: 0.8510 - val_loss: 0.3729 - val_accuracy: 0.8100\n",
      "Epoch 9/10\n",
      "75/75 [==============================] - 16s 217ms/step - loss: 0.2478 - accuracy: 0.8505 - val_loss: 0.3252 - val_accuracy: 0.8417\n",
      "Epoch 10/10\n",
      "75/75 [==============================] - 15s 198ms/step - loss: 0.2295 - accuracy: 0.8741 - val_loss: 0.3311 - val_accuracy: 0.8183\n"
     ]
    }
   ],
   "source": [
    "model.compile(loss='binary_crossentropy',\n",
    "              optimizer='adam',\n",
    "              metrics=['accuracy'])\n",
    "\n",
    "history = model.fit(X_train, \n",
    "                    y_train,\n",
    "                    batch_size=32,\n",
    "                    epochs=10, \n",
    "                    validation_data=(X_test,y_test))"
   ]
  },
  {
   "cell_type": "code",
   "execution_count": 13,
   "id": "bf63523c",
   "metadata": {},
   "outputs": [
    {
     "name": "stdout",
     "output_type": "stream",
     "text": [
      "19/19 [==============================] - 1s 52ms/step - loss: 0.3311 - accuracy: 0.8183\n"
     ]
    },
    {
     "data": {
      "text/plain": [
       "[0.3310956656932831, 0.8183333277702332]"
      ]
     },
     "execution_count": 13,
     "metadata": {},
     "output_type": "execute_result"
    }
   ],
   "source": [
    "model.evaluate(X_test, y_test)"
   ]
  },
  {
   "cell_type": "code",
   "execution_count": 14,
   "id": "3fa8c541",
   "metadata": {},
   "outputs": [
    {
     "data": {
      "image/png": "[encoded data removed]",
      "text/plain": [
       "<Figure size 432x288 with 1 Axes>"
      ]
     },
     "metadata": {
      "needs_background": "light"
     },
     "output_type": "display_data"
    }
   ],
   "source": [
    "pd.DataFrame(history.history).plot();"
   ]
  },
  {
   "cell_type": "code",
   "execution_count": 15,
   "id": "b74d410b",
   "metadata": {},
   "outputs": [],
   "source": [
    "model.save('brain_tumor.h5')"
   ]
  },
  {
   "cell_type": "markdown",
   "id": "3d5a4d57",
   "metadata": {},
   "source": [
    "## Make prediction on new pictures"
   ]
  },
  {
   "cell_type": "code",
   "execution_count": 16,
   "id": "85edcd6f",
   "metadata": {},
   "outputs": [],
   "source": [
    "load_model = load_model('brain_tumor.h5')"
   ]
  },
  {
   "cell_type": "code",
   "execution_count": 17,
   "id": "f355c3e0",
   "metadata": {},
   "outputs": [
    {
     "name": "stdout",
     "output_type": "stream",
     "text": [
      "19/19 [==============================] - 1s 46ms/step - loss: 0.3311 - accuracy: 0.8183\n"
     ]
    },
    {
     "data": {
      "text/plain": [
       "[0.3310956656932831, 0.8183333277702332]"
      ]
     },
     "execution_count": 17,
     "metadata": {},
     "output_type": "execute_result"
    }
   ],
   "source": [
    "load_model.evaluate(X_test, y_test)"
   ]
  },
  {
   "cell_type": "code",
   "execution_count": 22,
   "id": "2bb07b85",
   "metadata": {},
   "outputs": [],
   "source": [
    "def img_pred(file_path):\n",
    "    rand_img = random.sample(os.listdir(file_path), 1)\n",
    "#     print(rand_img)\n",
    "    path = file_path + \"/\" + rand_img[0]\n",
    "#     print(path)\n",
    "    img = cv2.imread(path)\n",
    "#     print(img)\n",
    "    img = Image.fromarray(img)\n",
    "    img = img.resize((64,64))\n",
    "    img = np.array(img)\n",
    "#     print(img.shape)\n",
    "    img = np.expand_dims(img, axis=0)\n",
    "#     print(img.shape)\n",
    "    \n",
    "    result = load_model.predict(img)\n",
    "    print(f'image: {rand_img[0]}')\n",
    "    \n",
    "#     display the image\n",
    "    pic = mpimg.imread(path)\n",
    "    plt.title(f'predicted: {int(result[0][0])}')\n",
    "    plt.imshow(pic)\n"
   ]
  },
  {
   "cell_type": "code",
   "execution_count": 52,
   "id": "46e5a6f1",
   "metadata": {},
   "outputs": [
    {
     "name": "stdout",
     "output_type": "stream",
     "text": [
      "image: pred5.jpg\n"
     ]
    },
    {
     "data": {
      "image/png": "[encoded data removed]",
      "text/plain": [
       "<Figure size 432x288 with 1 Axes>"
      ]
     },
     "metadata": {
      "needs_background": "light"
     },
     "output_type": "display_data"
    }
   ],
   "source": [
    "img_pred('dataset/pred')"
   ]
  }
 ],
 "metadata": {
  "kernelspec": {
   "display_name": "Python 3 (ipykernel)",
   "language": "python",
   "name": "python3"
  },
  "language_info": {
   "codemirror_mode": {
    "name": "ipython",
    "version": 3
   },
   "file_extension": ".py",
   "mimetype": "text/x-python",
   "name": "python",
   "nbconvert_exporter": "python",
   "pygments_lexer": "ipython3",
   "version": "3.8.10"
  }
 },
 "nbformat": 4,
 "nbformat_minor": 5
}
